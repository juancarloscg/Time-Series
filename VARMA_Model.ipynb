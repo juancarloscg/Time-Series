{
  "nbformat": 4,
  "nbformat_minor": 0,
  "metadata": {
    "colab": {
      "name": "VARMA Model.ipynb",
      "provenance": [],
      "collapsed_sections": [],
      "authorship_tag": "ABX9TyObZBHTCojhVxAZeM73lMlw"
    },
    "kernelspec": {
      "name": "python3",
      "display_name": "Python 3"
    }
  },
  "cells": [
    {
      "cell_type": "markdown",
      "metadata": {
        "id": "0W9hK1J-ElVv",
        "colab_type": "text"
      },
      "source": [
        "# **Vector AutoRegression Moving Average - VARMA (p, q)**"
      ]
    },
    {
      "cell_type": "code",
      "metadata": {
        "id": "1agmyletEkWj",
        "colab_type": "code",
        "colab": {}
      },
      "source": [
        "#Importing libraries\n",
        "import numpy as np\n",
        "import pandas as pd\n",
        "import matplotlib.pyplot as plt\n",
        "from google.colab import drive\n",
        "\n",
        "%matplotlib inline\n",
        "import warnings\n",
        "warnings.filterwarnings('ignore')"
      ],
      "execution_count": 0,
      "outputs": []
    },
    {
      "cell_type": "code",
      "metadata": {
        "id": "mHGokGLaE9b_",
        "colab_type": "code",
        "colab": {}
      },
      "source": [
        "from statsmodels.tsa.stattools import adfuller\n",
        "from statsmodels.tools.eval_measures import rmse\n",
        "from statsmodels.tsa.statespace.varmax import VARMAX, VARMAXResults\n",
        "from pmdarima import auto_arima"
      ],
      "execution_count": 0,
      "outputs": []
    },
    {
      "cell_type": "code",
      "metadata": {
        "id": "dDcf9LWtFAPh",
        "colab_type": "code",
        "outputId": "579de201-8f43-4ac8-ca3b-b3d61068119c",
        "colab": {
          "base_uri": "https://localhost:8080/",
          "height": 252
        }
      },
      "source": [
        "#Mounting drive to access Google Drive\n",
        "drive.mount('/content/drive')\n",
        "\n",
        "#Loading data\n",
        "data_money=pd.read_csv('/content/drive/My Drive/Colab Notebooks/M2SLMoneyStock.csv', index_col=0 ,parse_dates=True)\n",
        "data_money.index.freq='MS'\n",
        "data_money.head()"
      ],
      "execution_count": 5,
      "outputs": [
        {
          "output_type": "stream",
          "text": [
            "Drive already mounted at /content/drive; to attempt to forcibly remount, call drive.mount(\"/content/drive\", force_remount=True).\n"
          ],
          "name": "stdout"
        },
        {
          "output_type": "execute_result",
          "data": {
            "text/html": [
              "<div>\n",
              "<style scoped>\n",
              "    .dataframe tbody tr th:only-of-type {\n",
              "        vertical-align: middle;\n",
              "    }\n",
              "\n",
              "    .dataframe tbody tr th {\n",
              "        vertical-align: top;\n",
              "    }\n",
              "\n",
              "    .dataframe thead th {\n",
              "        text-align: right;\n",
              "    }\n",
              "</style>\n",
              "<table border=\"1\" class=\"dataframe\">\n",
              "  <thead>\n",
              "    <tr style=\"text-align: right;\">\n",
              "      <th></th>\n",
              "      <th>Money</th>\n",
              "    </tr>\n",
              "    <tr>\n",
              "      <th>Date</th>\n",
              "      <th></th>\n",
              "    </tr>\n",
              "  </thead>\n",
              "  <tbody>\n",
              "    <tr>\n",
              "      <th>1995-01-01</th>\n",
              "      <td>3492.4</td>\n",
              "    </tr>\n",
              "    <tr>\n",
              "      <th>1995-02-01</th>\n",
              "      <td>3489.9</td>\n",
              "    </tr>\n",
              "    <tr>\n",
              "      <th>1995-03-01</th>\n",
              "      <td>3491.1</td>\n",
              "    </tr>\n",
              "    <tr>\n",
              "      <th>1995-04-01</th>\n",
              "      <td>3499.2</td>\n",
              "    </tr>\n",
              "    <tr>\n",
              "      <th>1995-05-01</th>\n",
              "      <td>3524.2</td>\n",
              "    </tr>\n",
              "  </tbody>\n",
              "</table>\n",
              "</div>"
            ],
            "text/plain": [
              "             Money\n",
              "Date              \n",
              "1995-01-01  3492.4\n",
              "1995-02-01  3489.9\n",
              "1995-03-01  3491.1\n",
              "1995-04-01  3499.2\n",
              "1995-05-01  3524.2"
            ]
          },
          "metadata": {
            "tags": []
          },
          "execution_count": 5
        }
      ]
    },
    {
      "cell_type": "code",
      "metadata": {
        "id": "cwaYiZ9oKbiz",
        "colab_type": "code",
        "outputId": "92802815-c8aa-4833-a879-22e1ae8c3802",
        "colab": {
          "base_uri": "https://localhost:8080/",
          "height": 235
        }
      },
      "source": [
        "#Loading data\n",
        "data_spend=pd.read_csv('/content/drive/My Drive/Colab Notebooks/PCEPersonalSpending.csv', index_col=0 ,parse_dates=True)\n",
        "data_spend.index.freq='MS'\n",
        "data_spend.head()"
      ],
      "execution_count": 6,
      "outputs": [
        {
          "output_type": "execute_result",
          "data": {
            "text/html": [
              "<div>\n",
              "<style scoped>\n",
              "    .dataframe tbody tr th:only-of-type {\n",
              "        vertical-align: middle;\n",
              "    }\n",
              "\n",
              "    .dataframe tbody tr th {\n",
              "        vertical-align: top;\n",
              "    }\n",
              "\n",
              "    .dataframe thead th {\n",
              "        text-align: right;\n",
              "    }\n",
              "</style>\n",
              "<table border=\"1\" class=\"dataframe\">\n",
              "  <thead>\n",
              "    <tr style=\"text-align: right;\">\n",
              "      <th></th>\n",
              "      <th>Spending</th>\n",
              "    </tr>\n",
              "    <tr>\n",
              "      <th>Date</th>\n",
              "      <th></th>\n",
              "    </tr>\n",
              "  </thead>\n",
              "  <tbody>\n",
              "    <tr>\n",
              "      <th>1995-01-01</th>\n",
              "      <td>4851.2</td>\n",
              "    </tr>\n",
              "    <tr>\n",
              "      <th>1995-02-01</th>\n",
              "      <td>4850.8</td>\n",
              "    </tr>\n",
              "    <tr>\n",
              "      <th>1995-03-01</th>\n",
              "      <td>4885.4</td>\n",
              "    </tr>\n",
              "    <tr>\n",
              "      <th>1995-04-01</th>\n",
              "      <td>4890.2</td>\n",
              "    </tr>\n",
              "    <tr>\n",
              "      <th>1995-05-01</th>\n",
              "      <td>4933.1</td>\n",
              "    </tr>\n",
              "  </tbody>\n",
              "</table>\n",
              "</div>"
            ],
            "text/plain": [
              "            Spending\n",
              "Date                \n",
              "1995-01-01    4851.2\n",
              "1995-02-01    4850.8\n",
              "1995-03-01    4885.4\n",
              "1995-04-01    4890.2\n",
              "1995-05-01    4933.1"
            ]
          },
          "metadata": {
            "tags": []
          },
          "execution_count": 6
        }
      ]
    },
    {
      "cell_type": "code",
      "metadata": {
        "id": "OO3e6fdfMjsR",
        "colab_type": "code",
        "outputId": "add1488c-5cde-4279-d629-1f196f4a03a1",
        "colab": {
          "base_uri": "https://localhost:8080/",
          "height": 235
        }
      },
      "source": [
        "data_money = data_money.join(data_spend)\n",
        "data_money.head()"
      ],
      "execution_count": 7,
      "outputs": [
        {
          "output_type": "execute_result",
          "data": {
            "text/html": [
              "<div>\n",
              "<style scoped>\n",
              "    .dataframe tbody tr th:only-of-type {\n",
              "        vertical-align: middle;\n",
              "    }\n",
              "\n",
              "    .dataframe tbody tr th {\n",
              "        vertical-align: top;\n",
              "    }\n",
              "\n",
              "    .dataframe thead th {\n",
              "        text-align: right;\n",
              "    }\n",
              "</style>\n",
              "<table border=\"1\" class=\"dataframe\">\n",
              "  <thead>\n",
              "    <tr style=\"text-align: right;\">\n",
              "      <th></th>\n",
              "      <th>Money</th>\n",
              "      <th>Spending</th>\n",
              "    </tr>\n",
              "    <tr>\n",
              "      <th>Date</th>\n",
              "      <th></th>\n",
              "      <th></th>\n",
              "    </tr>\n",
              "  </thead>\n",
              "  <tbody>\n",
              "    <tr>\n",
              "      <th>1995-01-01</th>\n",
              "      <td>3492.4</td>\n",
              "      <td>4851.2</td>\n",
              "    </tr>\n",
              "    <tr>\n",
              "      <th>1995-02-01</th>\n",
              "      <td>3489.9</td>\n",
              "      <td>4850.8</td>\n",
              "    </tr>\n",
              "    <tr>\n",
              "      <th>1995-03-01</th>\n",
              "      <td>3491.1</td>\n",
              "      <td>4885.4</td>\n",
              "    </tr>\n",
              "    <tr>\n",
              "      <th>1995-04-01</th>\n",
              "      <td>3499.2</td>\n",
              "      <td>4890.2</td>\n",
              "    </tr>\n",
              "    <tr>\n",
              "      <th>1995-05-01</th>\n",
              "      <td>3524.2</td>\n",
              "      <td>4933.1</td>\n",
              "    </tr>\n",
              "  </tbody>\n",
              "</table>\n",
              "</div>"
            ],
            "text/plain": [
              "             Money  Spending\n",
              "Date                        \n",
              "1995-01-01  3492.4    4851.2\n",
              "1995-02-01  3489.9    4850.8\n",
              "1995-03-01  3491.1    4885.4\n",
              "1995-04-01  3499.2    4890.2\n",
              "1995-05-01  3524.2    4933.1"
            ]
          },
          "metadata": {
            "tags": []
          },
          "execution_count": 7
        }
      ]
    },
    {
      "cell_type": "code",
      "metadata": {
        "id": "_MmLeb1dNuaM",
        "colab_type": "code",
        "colab": {}
      },
      "source": [
        "data_money = data_money.dropna()"
      ],
      "execution_count": 0,
      "outputs": []
    },
    {
      "cell_type": "code",
      "metadata": {
        "id": "sM-hsS9DNsa8",
        "colab_type": "code",
        "outputId": "88d9dd8c-e620-4e7a-8bfc-c42f81fbc21f",
        "colab": {
          "base_uri": "https://localhost:8080/",
          "height": 34
        }
      },
      "source": [
        "data_money.shape"
      ],
      "execution_count": 9,
      "outputs": [
        {
          "output_type": "execute_result",
          "data": {
            "text/plain": [
              "(252, 2)"
            ]
          },
          "metadata": {
            "tags": []
          },
          "execution_count": 9
        }
      ]
    },
    {
      "cell_type": "code",
      "metadata": {
        "id": "AjLI_STOOAUz",
        "colab_type": "code",
        "outputId": "ca602207-30c5-4a3c-9d19-8cf2bef70674",
        "colab": {
          "base_uri": "https://localhost:8080/",
          "height": 351
        }
      },
      "source": [
        "data_money.plot(legend=True, figsize=(15,5))"
      ],
      "execution_count": 10,
      "outputs": [
        {
          "output_type": "execute_result",
          "data": {
            "text/plain": [
              "<matplotlib.axes._subplots.AxesSubplot at 0x7fe9a7bb3240>"
            ]
          },
          "metadata": {
            "tags": []
          },
          "execution_count": 10
        },
        {
          "output_type": "display_data",
          "data": {
            "image/png": "[encoded data removed]",
            "text/plain": [
              "<Figure size 1080x360 with 1 Axes>"
            ]
          },
          "metadata": {
            "tags": [],
            "needs_background": "light"
          }
        }
      ]
    },
    {
      "cell_type": "code",
      "metadata": {
        "id": "171AxONSOJt6",
        "colab_type": "code",
        "outputId": "9cdce55a-a95e-43ba-976b-65f1dc879779",
        "colab": {
          "base_uri": "https://localhost:8080/",
          "height": 102
        }
      },
      "source": [
        "result=adfuller(data_money['Money'],autolag='AIC')\n",
        "labels=['ADF test statistics','p-value','# lags used','# observations']\n",
        "out = pd.Series(result[0:4],index=labels)\n",
        "out"
      ],
      "execution_count": 0,
      "outputs": [
        {
          "output_type": "execute_result",
          "data": {
            "text/plain": [
              "ADF test statistics      4.239022\n",
              "p-value                  1.000000\n",
              "# lags used              4.000000\n",
              "# observations         247.000000\n",
              "dtype: float64"
            ]
          },
          "metadata": {
            "tags": []
          },
          "execution_count": 205
        }
      ]
    },
    {
      "cell_type": "code",
      "metadata": {
        "id": "j8K-cSrSPZKM",
        "colab_type": "code",
        "outputId": "ddd98b73-4c63-4022-c764-dcd0bb7392a6",
        "colab": {
          "base_uri": "https://localhost:8080/",
          "height": 102
        }
      },
      "source": [
        "result=adfuller(data_money['Spending'],autolag='AIC')\n",
        "labels=['ADF test statistics','p-value','# lags used','# observations']\n",
        "out = pd.Series(result[0:4],index=labels)\n",
        "out"
      ],
      "execution_count": 0,
      "outputs": [
        {
          "output_type": "execute_result",
          "data": {
            "text/plain": [
              "ADF test statistics      0.149796\n",
              "p-value                  0.969301\n",
              "# lags used              3.000000\n",
              "# observations         248.000000\n",
              "dtype: float64"
            ]
          },
          "metadata": {
            "tags": []
          },
          "execution_count": 206
        }
      ]
    },
    {
      "cell_type": "code",
      "metadata": {
        "id": "0UIFIpWt1lN9",
        "colab_type": "code",
        "colab": {
          "base_uri": "https://localhost:8080/",
          "height": 85
        },
        "outputId": "3d5e4ae2-76f9-452b-9b34-2e196b09da40"
      },
      "source": [
        "auto_arima(data_money['Money'],maxiter=1000)"
      ],
      "execution_count": 13,
      "outputs": [
        {
          "output_type": "execute_result",
          "data": {
            "text/plain": [
              "ARIMA(maxiter=1000, method='lbfgs', order=(3, 2, 3), out_of_sample_size=0,\n",
              "      scoring='mse', scoring_args=None, seasonal_order=(0, 0, 0, 0),\n",
              "      start_params=None, suppress_warnings=False, trend=None,\n",
              "      with_intercept=True)"
            ]
          },
          "metadata": {
            "tags": []
          },
          "execution_count": 13
        }
      ]
    },
    {
      "cell_type": "code",
      "metadata": {
        "id": "uTgeIqUp1-ka",
        "colab_type": "code",
        "colab": {
          "base_uri": "https://localhost:8080/",
          "height": 85
        },
        "outputId": "5c2040bb-2534-479d-e057-ca1e1b6a1faa"
      },
      "source": [
        "auto_arima(data_money['Spending'],maxiter=1000)"
      ],
      "execution_count": 14,
      "outputs": [
        {
          "output_type": "execute_result",
          "data": {
            "text/plain": [
              "ARIMA(maxiter=1000, method='lbfgs', order=(1, 1, 2), out_of_sample_size=0,\n",
              "      scoring='mse', scoring_args=None, seasonal_order=(0, 0, 0, 0),\n",
              "      start_params=None, suppress_warnings=False, trend=None,\n",
              "      with_intercept=True)"
            ]
          },
          "metadata": {
            "tags": []
          },
          "execution_count": 14
        }
      ]
    },
    {
      "cell_type": "code",
      "metadata": {
        "id": "NVn19HztQgnQ",
        "colab_type": "code",
        "colab": {}
      },
      "source": [
        "data_transformed=data_money.diff().diff()"
      ],
      "execution_count": 0,
      "outputs": []
    },
    {
      "cell_type": "code",
      "metadata": {
        "id": "8icowi20Ql7L",
        "colab_type": "code",
        "outputId": "3abe1a31-5a09-4299-f23c-773c01491314",
        "colab": {
          "base_uri": "https://localhost:8080/",
          "height": 235
        }
      },
      "source": [
        "data_transformed.head()"
      ],
      "execution_count": 16,
      "outputs": [
        {
          "output_type": "execute_result",
          "data": {
            "text/html": [
              "<div>\n",
              "<style scoped>\n",
              "    .dataframe tbody tr th:only-of-type {\n",
              "        vertical-align: middle;\n",
              "    }\n",
              "\n",
              "    .dataframe tbody tr th {\n",
              "        vertical-align: top;\n",
              "    }\n",
              "\n",
              "    .dataframe thead th {\n",
              "        text-align: right;\n",
              "    }\n",
              "</style>\n",
              "<table border=\"1\" class=\"dataframe\">\n",
              "  <thead>\n",
              "    <tr style=\"text-align: right;\">\n",
              "      <th></th>\n",
              "      <th>Money</th>\n",
              "      <th>Spending</th>\n",
              "    </tr>\n",
              "    <tr>\n",
              "      <th>Date</th>\n",
              "      <th></th>\n",
              "      <th></th>\n",
              "    </tr>\n",
              "  </thead>\n",
              "  <tbody>\n",
              "    <tr>\n",
              "      <th>1995-01-01</th>\n",
              "      <td>NaN</td>\n",
              "      <td>NaN</td>\n",
              "    </tr>\n",
              "    <tr>\n",
              "      <th>1995-02-01</th>\n",
              "      <td>NaN</td>\n",
              "      <td>NaN</td>\n",
              "    </tr>\n",
              "    <tr>\n",
              "      <th>1995-03-01</th>\n",
              "      <td>3.7</td>\n",
              "      <td>35.0</td>\n",
              "    </tr>\n",
              "    <tr>\n",
              "      <th>1995-04-01</th>\n",
              "      <td>6.9</td>\n",
              "      <td>-29.8</td>\n",
              "    </tr>\n",
              "    <tr>\n",
              "      <th>1995-05-01</th>\n",
              "      <td>16.9</td>\n",
              "      <td>38.1</td>\n",
              "    </tr>\n",
              "  </tbody>\n",
              "</table>\n",
              "</div>"
            ],
            "text/plain": [
              "            Money  Spending\n",
              "Date                       \n",
              "1995-01-01    NaN       NaN\n",
              "1995-02-01    NaN       NaN\n",
              "1995-03-01    3.7      35.0\n",
              "1995-04-01    6.9     -29.8\n",
              "1995-05-01   16.9      38.1"
            ]
          },
          "metadata": {
            "tags": []
          },
          "execution_count": 16
        }
      ]
    },
    {
      "cell_type": "code",
      "metadata": {
        "id": "cFZTgehzQxC7",
        "colab_type": "code",
        "outputId": "eb89dde7-ff91-4eac-9566-a191f18ac99a",
        "colab": {
          "base_uri": "https://localhost:8080/",
          "height": 102
        }
      },
      "source": [
        "result=adfuller(data_transformed['Money'].dropna(),autolag='AIC')\n",
        "labels=['ADF test statistics','p-value','# lags used','# observations']\n",
        "out = pd.Series(result[0:4],index=labels)\n",
        "out"
      ],
      "execution_count": 0,
      "outputs": [
        {
          "output_type": "execute_result",
          "data": {
            "text/plain": [
              "ADF test statistics     -2.057404\n",
              "p-value                  0.261984\n",
              "# lags used             15.000000\n",
              "# observations         235.000000\n",
              "dtype: float64"
            ]
          },
          "metadata": {
            "tags": []
          },
          "execution_count": 209
        }
      ]
    },
    {
      "cell_type": "code",
      "metadata": {
        "id": "wlqVQtasRBMy",
        "colab_type": "code",
        "outputId": "7aa379e8-eb9f-4c2a-9c25-87362f17cd52",
        "colab": {
          "base_uri": "https://localhost:8080/",
          "height": 102
        }
      },
      "source": [
        "result=adfuller(data_transformed['Spending'].dropna(),autolag='AIC')\n",
        "labels=['ADF test statistics','p-value','# lags used','# observations']\n",
        "out = pd.Series(result[0:4],index=labels)\n",
        "out"
      ],
      "execution_count": 0,
      "outputs": [
        {
          "output_type": "execute_result",
          "data": {
            "text/plain": [
              "ADF test statistics   -7.226974e+00\n",
              "p-value                2.041027e-10\n",
              "# lags used            2.000000e+00\n",
              "# observations         2.480000e+02\n",
              "dtype: float64"
            ]
          },
          "metadata": {
            "tags": []
          },
          "execution_count": 210
        }
      ]
    },
    {
      "cell_type": "markdown",
      "metadata": {
        "id": "0Vyx2sPBRGXb",
        "colab_type": "text"
      },
      "source": [
        "In 1 level difference Spending column is already stationary (p-value<=0.05)."
      ]
    },
    {
      "cell_type": "code",
      "metadata": {
        "id": "KFlSXxhySaXk",
        "colab_type": "code",
        "outputId": "f24b17ab-ad52-4fe3-c74a-784567f4a100",
        "colab": {
          "base_uri": "https://localhost:8080/",
          "height": 235
        }
      },
      "source": [
        "data_transformed=data_transformed.diff()\n",
        "data_transformed\n",
        "data_transformed.dropna(inplace=True)\n",
        "data_transformed.head()"
      ],
      "execution_count": 0,
      "outputs": [
        {
          "output_type": "execute_result",
          "data": {
            "text/html": [
              "<div>\n",
              "<style scoped>\n",
              "    .dataframe tbody tr th:only-of-type {\n",
              "        vertical-align: middle;\n",
              "    }\n",
              "\n",
              "    .dataframe tbody tr th {\n",
              "        vertical-align: top;\n",
              "    }\n",
              "\n",
              "    .dataframe thead th {\n",
              "        text-align: right;\n",
              "    }\n",
              "</style>\n",
              "<table border=\"1\" class=\"dataframe\">\n",
              "  <thead>\n",
              "    <tr style=\"text-align: right;\">\n",
              "      <th></th>\n",
              "      <th>Money</th>\n",
              "      <th>Spending</th>\n",
              "    </tr>\n",
              "    <tr>\n",
              "      <th>Date</th>\n",
              "      <th></th>\n",
              "      <th></th>\n",
              "    </tr>\n",
              "  </thead>\n",
              "  <tbody>\n",
              "    <tr>\n",
              "      <th>1995-03-01</th>\n",
              "      <td>3.7</td>\n",
              "      <td>35.0</td>\n",
              "    </tr>\n",
              "    <tr>\n",
              "      <th>1995-04-01</th>\n",
              "      <td>6.9</td>\n",
              "      <td>-29.8</td>\n",
              "    </tr>\n",
              "    <tr>\n",
              "      <th>1995-05-01</th>\n",
              "      <td>16.9</td>\n",
              "      <td>38.1</td>\n",
              "    </tr>\n",
              "    <tr>\n",
              "      <th>1995-06-01</th>\n",
              "      <td>-0.3</td>\n",
              "      <td>1.5</td>\n",
              "    </tr>\n",
              "    <tr>\n",
              "      <th>1995-07-01</th>\n",
              "      <td>-6.2</td>\n",
              "      <td>-51.7</td>\n",
              "    </tr>\n",
              "  </tbody>\n",
              "</table>\n",
              "</div>"
            ],
            "text/plain": [
              "            Money  Spending\n",
              "Date                       \n",
              "1995-03-01    3.7      35.0\n",
              "1995-04-01    6.9     -29.8\n",
              "1995-05-01   16.9      38.1\n",
              "1995-06-01   -0.3       1.5\n",
              "1995-07-01   -6.2     -51.7"
            ]
          },
          "metadata": {
            "tags": []
          },
          "execution_count": 211
        }
      ]
    },
    {
      "cell_type": "code",
      "metadata": {
        "id": "E9yCn_0ySu5P",
        "colab_type": "code",
        "outputId": "2ebbc63b-3a45-402e-d724-0faebc411ce8",
        "colab": {
          "base_uri": "https://localhost:8080/",
          "height": 102
        }
      },
      "source": [
        "result=adfuller(data_transformed['Money'],autolag='AIC')\n",
        "labels=['ADF test statistics','p-value','# lags used','# observations']\n",
        "out = pd.Series(result[0:4],index=labels)\n",
        "out"
      ],
      "execution_count": 0,
      "outputs": [
        {
          "output_type": "execute_result",
          "data": {
            "text/plain": [
              "ADF test statistics   -7.077471e+00\n",
              "p-value                4.760675e-10\n",
              "# lags used            1.400000e+01\n",
              "# observations         2.350000e+02\n",
              "dtype: float64"
            ]
          },
          "metadata": {
            "tags": []
          },
          "execution_count": 212
        }
      ]
    },
    {
      "cell_type": "code",
      "metadata": {
        "colab_type": "code",
        "outputId": "0a489671-de0a-47f5-f5d6-5103d48ad41e",
        "id": "0-HUKZ4dS4CU",
        "colab": {
          "base_uri": "https://localhost:8080/",
          "height": 102
        }
      },
      "source": [
        "result=adfuller(data_transformed['Spending'].dropna(),autolag='AIC')\n",
        "labels=['ADF test statistics','p-value','# lags used','# observations']\n",
        "out = pd.Series(result[0:4],index=labels)\n",
        "out"
      ],
      "execution_count": 0,
      "outputs": [
        {
          "output_type": "execute_result",
          "data": {
            "text/plain": [
              "ADF test statistics   -8.760145e+00\n",
              "p-value                2.687900e-14\n",
              "# lags used            8.000000e+00\n",
              "# observations         2.410000e+02\n",
              "dtype: float64"
            ]
          },
          "metadata": {
            "tags": []
          },
          "execution_count": 213
        }
      ]
    },
    {
      "cell_type": "markdown",
      "metadata": {
        "id": "WirkYGVYTrNG",
        "colab_type": "text"
      },
      "source": [
        "In 2 level difference both columns become stationary (p-value<=0.05)."
      ]
    },
    {
      "cell_type": "code",
      "metadata": {
        "id": "2rpn2vJkTxkh",
        "colab_type": "code",
        "colab": {}
      },
      "source": [
        "num=12"
      ],
      "execution_count": 0,
      "outputs": []
    },
    {
      "cell_type": "code",
      "metadata": {
        "id": "0DsZRTEiUGvw",
        "colab_type": "code",
        "colab": {}
      },
      "source": [
        "train = data_transformed[:-num]"
      ],
      "execution_count": 0,
      "outputs": []
    },
    {
      "cell_type": "code",
      "metadata": {
        "id": "YUyIVQBUtU7M",
        "colab_type": "code",
        "outputId": "2f3cc0e2-abf0-4b38-af96-e136b201eb37",
        "colab": {
          "base_uri": "https://localhost:8080/",
          "height": 34
        }
      },
      "source": [
        "train.shape"
      ],
      "execution_count": 0,
      "outputs": [
        {
          "output_type": "execute_result",
          "data": {
            "text/plain": [
              "(238, 2)"
            ]
          },
          "metadata": {
            "tags": []
          },
          "execution_count": 216
        }
      ]
    },
    {
      "cell_type": "code",
      "metadata": {
        "id": "AeFXeO9-vkuq",
        "colab_type": "code",
        "outputId": "684c82af-7220-4191-e4c2-7f4c789ad531",
        "colab": {
          "base_uri": "https://localhost:8080/",
          "height": 235
        }
      },
      "source": [
        "train.head()"
      ],
      "execution_count": 0,
      "outputs": [
        {
          "output_type": "execute_result",
          "data": {
            "text/html": [
              "<div>\n",
              "<style scoped>\n",
              "    .dataframe tbody tr th:only-of-type {\n",
              "        vertical-align: middle;\n",
              "    }\n",
              "\n",
              "    .dataframe tbody tr th {\n",
              "        vertical-align: top;\n",
              "    }\n",
              "\n",
              "    .dataframe thead th {\n",
              "        text-align: right;\n",
              "    }\n",
              "</style>\n",
              "<table border=\"1\" class=\"dataframe\">\n",
              "  <thead>\n",
              "    <tr style=\"text-align: right;\">\n",
              "      <th></th>\n",
              "      <th>Money</th>\n",
              "      <th>Spending</th>\n",
              "    </tr>\n",
              "    <tr>\n",
              "      <th>Date</th>\n",
              "      <th></th>\n",
              "      <th></th>\n",
              "    </tr>\n",
              "  </thead>\n",
              "  <tbody>\n",
              "    <tr>\n",
              "      <th>1995-03-01</th>\n",
              "      <td>3.7</td>\n",
              "      <td>35.0</td>\n",
              "    </tr>\n",
              "    <tr>\n",
              "      <th>1995-04-01</th>\n",
              "      <td>6.9</td>\n",
              "      <td>-29.8</td>\n",
              "    </tr>\n",
              "    <tr>\n",
              "      <th>1995-05-01</th>\n",
              "      <td>16.9</td>\n",
              "      <td>38.1</td>\n",
              "    </tr>\n",
              "    <tr>\n",
              "      <th>1995-06-01</th>\n",
              "      <td>-0.3</td>\n",
              "      <td>1.5</td>\n",
              "    </tr>\n",
              "    <tr>\n",
              "      <th>1995-07-01</th>\n",
              "      <td>-6.2</td>\n",
              "      <td>-51.7</td>\n",
              "    </tr>\n",
              "  </tbody>\n",
              "</table>\n",
              "</div>"
            ],
            "text/plain": [
              "            Money  Spending\n",
              "Date                       \n",
              "1995-03-01    3.7      35.0\n",
              "1995-04-01    6.9     -29.8\n",
              "1995-05-01   16.9      38.1\n",
              "1995-06-01   -0.3       1.5\n",
              "1995-07-01   -6.2     -51.7"
            ]
          },
          "metadata": {
            "tags": []
          },
          "execution_count": 217
        }
      ]
    },
    {
      "cell_type": "code",
      "metadata": {
        "id": "84_9gC-SUMfL",
        "colab_type": "code",
        "outputId": "5a34ae66-d43b-441b-bec2-ad33abf00fb9",
        "colab": {
          "base_uri": "https://localhost:8080/",
          "height": 452
        }
      },
      "source": [
        "test = data_transformed[-num:]\n",
        "test"
      ],
      "execution_count": 0,
      "outputs": [
        {
          "output_type": "execute_result",
          "data": {
            "text/html": [
              "<div>\n",
              "<style scoped>\n",
              "    .dataframe tbody tr th:only-of-type {\n",
              "        vertical-align: middle;\n",
              "    }\n",
              "\n",
              "    .dataframe tbody tr th {\n",
              "        vertical-align: top;\n",
              "    }\n",
              "\n",
              "    .dataframe thead th {\n",
              "        text-align: right;\n",
              "    }\n",
              "</style>\n",
              "<table border=\"1\" class=\"dataframe\">\n",
              "  <thead>\n",
              "    <tr style=\"text-align: right;\">\n",
              "      <th></th>\n",
              "      <th>Money</th>\n",
              "      <th>Spending</th>\n",
              "    </tr>\n",
              "    <tr>\n",
              "      <th>Date</th>\n",
              "      <th></th>\n",
              "      <th></th>\n",
              "    </tr>\n",
              "  </thead>\n",
              "  <tbody>\n",
              "    <tr>\n",
              "      <th>2015-01-01</th>\n",
              "      <td>-15.5</td>\n",
              "      <td>-26.6</td>\n",
              "    </tr>\n",
              "    <tr>\n",
              "      <th>2015-02-01</th>\n",
              "      <td>56.1</td>\n",
              "      <td>52.4</td>\n",
              "    </tr>\n",
              "    <tr>\n",
              "      <th>2015-03-01</th>\n",
              "      <td>-102.8</td>\n",
              "      <td>39.5</td>\n",
              "    </tr>\n",
              "    <tr>\n",
              "      <th>2015-04-01</th>\n",
              "      <td>30.9</td>\n",
              "      <td>-40.4</td>\n",
              "    </tr>\n",
              "    <tr>\n",
              "      <th>2015-05-01</th>\n",
              "      <td>-15.8</td>\n",
              "      <td>38.8</td>\n",
              "    </tr>\n",
              "    <tr>\n",
              "      <th>2015-06-01</th>\n",
              "      <td>14.0</td>\n",
              "      <td>-34.1</td>\n",
              "    </tr>\n",
              "    <tr>\n",
              "      <th>2015-07-01</th>\n",
              "      <td>6.7</td>\n",
              "      <td>6.9</td>\n",
              "    </tr>\n",
              "    <tr>\n",
              "      <th>2015-08-01</th>\n",
              "      <td>-0.7</td>\n",
              "      <td>-8.5</td>\n",
              "    </tr>\n",
              "    <tr>\n",
              "      <th>2015-09-01</th>\n",
              "      <td>5.5</td>\n",
              "      <td>-39.8</td>\n",
              "    </tr>\n",
              "    <tr>\n",
              "      <th>2015-10-01</th>\n",
              "      <td>-23.1</td>\n",
              "      <td>24.5</td>\n",
              "    </tr>\n",
              "    <tr>\n",
              "      <th>2015-11-01</th>\n",
              "      <td>55.8</td>\n",
              "      <td>10.7</td>\n",
              "    </tr>\n",
              "    <tr>\n",
              "      <th>2015-12-01</th>\n",
              "      <td>-31.2</td>\n",
              "      <td>-15.0</td>\n",
              "    </tr>\n",
              "  </tbody>\n",
              "</table>\n",
              "</div>"
            ],
            "text/plain": [
              "            Money  Spending\n",
              "Date                       \n",
              "2015-01-01  -15.5     -26.6\n",
              "2015-02-01   56.1      52.4\n",
              "2015-03-01 -102.8      39.5\n",
              "2015-04-01   30.9     -40.4\n",
              "2015-05-01  -15.8      38.8\n",
              "2015-06-01   14.0     -34.1\n",
              "2015-07-01    6.7       6.9\n",
              "2015-08-01   -0.7      -8.5\n",
              "2015-09-01    5.5     -39.8\n",
              "2015-10-01  -23.1      24.5\n",
              "2015-11-01   55.8      10.7\n",
              "2015-12-01  -31.2     -15.0"
            ]
          },
          "metadata": {
            "tags": []
          },
          "execution_count": 184
        }
      ]
    },
    {
      "cell_type": "markdown",
      "metadata": {
        "id": "8uxtPD44U9wU",
        "colab_type": "text"
      },
      "source": [
        "Gridsearch to select VAR Model"
      ]
    },
    {
      "cell_type": "code",
      "metadata": {
        "id": "hU3D82PsU8Pj",
        "colab_type": "code",
        "outputId": "0721ec3c-f0d5-42ce-85f7-8579765b1b06",
        "colab": {
          "base_uri": "https://localhost:8080/",
          "height": 629
        }
      },
      "source": [
        "models = VAR(train)\n",
        "\n",
        "for p in range (9):\n",
        "    results=models.fit(p)\n",
        "    print(f'ORDER {p}')\n",
        "    print(f'AIC: {results.aic}')\n",
        "    print('\\n')\n"
      ],
      "execution_count": 0,
      "outputs": [
        {
          "output_type": "stream",
          "text": [
            "ORDER 0\n",
            "AIC: 14.74710921809045\n",
            "\n",
            "\n",
            "ORDER 1\n",
            "AIC: 14.178610495220896\n",
            "\n",
            "\n",
            "ORDER 2\n",
            "AIC: 13.955189367163705\n",
            "\n",
            "\n",
            "ORDER 3\n",
            "AIC: 13.849518291541038\n",
            "\n",
            "\n",
            "ORDER 4\n",
            "AIC: 13.827950574458281\n",
            "\n",
            "\n",
            "ORDER 5\n",
            "AIC: 13.78730034460964\n",
            "\n",
            "\n",
            "ORDER 6\n",
            "AIC: 13.799076756885809\n",
            "\n",
            "\n",
            "ORDER 7\n",
            "AIC: 13.797638727913972\n",
            "\n",
            "\n",
            "ORDER 8\n",
            "AIC: 13.747200843672085\n",
            "\n",
            "\n"
          ],
          "name": "stdout"
        }
      ]
    },
    {
      "cell_type": "markdown",
      "metadata": {
        "id": "t5m-MP-_WJrv",
        "colab_type": "text"
      },
      "source": [
        "It seems that order 5 has the minimum AIC"
      ]
    },
    {
      "cell_type": "code",
      "metadata": {
        "id": "CPAIxXi9WOHz",
        "colab_type": "code",
        "colab": {}
      },
      "source": [
        "results = models.fit(5)"
      ],
      "execution_count": 0,
      "outputs": []
    },
    {
      "cell_type": "code",
      "metadata": {
        "id": "GQweEN1OWcwR",
        "colab_type": "code",
        "outputId": "d7576c4a-f0d9-46e8-cea1-cb03b6897ddd",
        "colab": {
          "base_uri": "https://localhost:8080/",
          "height": 884
        }
      },
      "source": [
        "results.summary()"
      ],
      "execution_count": 0,
      "outputs": [
        {
          "output_type": "execute_result",
          "data": {
            "text/plain": [
              "  Summary of Regression Results   \n",
              "==================================\n",
              "Model:                         VAR\n",
              "Method:                        OLS\n",
              "Date:           Mon, 25, May, 2020\n",
              "Time:                     16:51:57\n",
              "--------------------------------------------------------------------\n",
              "No. of Equations:         2.00000    BIC:                    14.1131\n",
              "Nobs:                     233.000    HQIC:                   13.9187\n",
              "Log likelihood:          -2245.45    FPE:                    972321.\n",
              "AIC:                      13.7873    Det(Omega_mle):         886628.\n",
              "--------------------------------------------------------------------\n",
              "Results for equation Money\n",
              "==============================================================================\n",
              "                 coefficient       std. error           t-stat            prob\n",
              "------------------------------------------------------------------------------\n",
              "const               0.516683         1.782238            0.290           0.772\n",
              "L1.Money           -0.646232         0.068177           -9.479           0.000\n",
              "L1.Spending        -0.107411         0.051388           -2.090           0.037\n",
              "L2.Money           -0.497482         0.077749           -6.399           0.000\n",
              "L2.Spending        -0.192202         0.068613           -2.801           0.005\n",
              "L3.Money           -0.234442         0.081004           -2.894           0.004\n",
              "L3.Spending        -0.178099         0.074288           -2.397           0.017\n",
              "L4.Money           -0.295531         0.075294           -3.925           0.000\n",
              "L4.Spending        -0.035564         0.069664           -0.511           0.610\n",
              "L5.Money           -0.162399         0.066700           -2.435           0.015\n",
              "L5.Spending        -0.058449         0.051357           -1.138           0.255\n",
              "==============================================================================\n",
              "\n",
              "Results for equation Spending\n",
              "==============================================================================\n",
              "                 coefficient       std. error           t-stat            prob\n",
              "------------------------------------------------------------------------------\n",
              "const               0.203469         2.355446            0.086           0.931\n",
              "L1.Money            0.188105         0.090104            2.088           0.037\n",
              "L1.Spending        -0.878970         0.067916          -12.942           0.000\n",
              "L2.Money            0.053017         0.102755            0.516           0.606\n",
              "L2.Spending        -0.625313         0.090681           -6.896           0.000\n",
              "L3.Money           -0.022172         0.107057           -0.207           0.836\n",
              "L3.Spending        -0.389041         0.098180           -3.963           0.000\n",
              "L4.Money           -0.170456         0.099510           -1.713           0.087\n",
              "L4.Spending        -0.245435         0.092069           -2.666           0.008\n",
              "L5.Money           -0.083165         0.088153           -0.943           0.345\n",
              "L5.Spending        -0.181699         0.067874           -2.677           0.007\n",
              "==============================================================================\n",
              "\n",
              "Correlation matrix of residuals\n",
              "               Money  Spending\n",
              "Money       1.000000 -0.267934\n",
              "Spending   -0.267934  1.000000\n",
              "\n"
            ]
          },
          "metadata": {
            "tags": []
          },
          "execution_count": 220
        }
      ]
    },
    {
      "cell_type": "markdown",
      "metadata": {
        "id": "3ihM5ZHvXKDY",
        "colab_type": "text"
      },
      "source": [
        "To use Predict we have to grab 5 lagged values before the test data starts in numpy array"
      ]
    },
    {
      "cell_type": "code",
      "metadata": {
        "id": "0lrvl21sXVmQ",
        "colab_type": "code",
        "colab": {}
      },
      "source": [
        "lagged_val= train.values[-5:]"
      ],
      "execution_count": 0,
      "outputs": []
    },
    {
      "cell_type": "code",
      "metadata": {
        "id": "TxKlH0KlWy78",
        "colab_type": "code",
        "outputId": "2c019cdb-4c65-40f6-a6d9-9662e7e1362f",
        "colab": {
          "base_uri": "https://localhost:8080/",
          "height": 221
        }
      },
      "source": [
        "sol = results.forecast(y=lagged_val, steps=12)\n",
        "sol"
      ],
      "execution_count": 0,
      "outputs": [
        {
          "output_type": "execute_result",
          "data": {
            "text/plain": [
              "array([[-16.99527634,  36.14982003],\n",
              "       [ -3.17403756, -11.45029844],\n",
              "       [ -0.377725  ,  -6.68496939],\n",
              "       [ -2.60223305,   5.47945777],\n",
              "       [  4.228557  ,  -2.44336505],\n",
              "       [  1.55939341,   0.38763902],\n",
              "       [ -0.99841027,   3.88368011],\n",
              "       [  0.36451042,  -2.3561014 ],\n",
              "       [ -1.21062726,  -1.22414652],\n",
              "       [  0.22587712,   0.786927  ],\n",
              "       [  1.33893884,   0.18097449],\n",
              "       [ -0.21858453,   0.21275046]])"
            ]
          },
          "metadata": {
            "tags": []
          },
          "execution_count": 222
        }
      ]
    },
    {
      "cell_type": "code",
      "metadata": {
        "id": "VfoGlEO7X1gF",
        "colab_type": "code",
        "outputId": "87887b99-d89a-4abf-8676-6bf99867a107",
        "colab": {
          "base_uri": "https://localhost:8080/",
          "height": 85
        }
      },
      "source": [
        "idx = pd.date_range('2015-01-01',periods=12,freq='MS')\n",
        "idx"
      ],
      "execution_count": 0,
      "outputs": [
        {
          "output_type": "execute_result",
          "data": {
            "text/plain": [
              "DatetimeIndex(['2015-01-01', '2015-02-01', '2015-03-01', '2015-04-01',\n",
              "               '2015-05-01', '2015-06-01', '2015-07-01', '2015-08-01',\n",
              "               '2015-09-01', '2015-10-01', '2015-11-01', '2015-12-01'],\n",
              "              dtype='datetime64[ns]', freq='MS')"
            ]
          },
          "metadata": {
            "tags": []
          },
          "execution_count": 223
        }
      ]
    },
    {
      "cell_type": "code",
      "metadata": {
        "id": "qGm8R865YFU0",
        "colab_type": "code",
        "outputId": "635fc5af-1a4a-4af5-84a4-18e4addf0cfe",
        "colab": {
          "base_uri": "https://localhost:8080/",
          "height": 421
        }
      },
      "source": [
        "forecast = pd.DataFrame(data=sol,index=idx,columns=['Money_2d','Spending_2d'])\n",
        "forecast"
      ],
      "execution_count": 0,
      "outputs": [
        {
          "output_type": "execute_result",
          "data": {
            "text/html": [
              "<div>\n",
              "<style scoped>\n",
              "    .dataframe tbody tr th:only-of-type {\n",
              "        vertical-align: middle;\n",
              "    }\n",
              "\n",
              "    .dataframe tbody tr th {\n",
              "        vertical-align: top;\n",
              "    }\n",
              "\n",
              "    .dataframe thead th {\n",
              "        text-align: right;\n",
              "    }\n",
              "</style>\n",
              "<table border=\"1\" class=\"dataframe\">\n",
              "  <thead>\n",
              "    <tr style=\"text-align: right;\">\n",
              "      <th></th>\n",
              "      <th>Money_2d</th>\n",
              "      <th>Spending_2d</th>\n",
              "    </tr>\n",
              "  </thead>\n",
              "  <tbody>\n",
              "    <tr>\n",
              "      <th>2015-01-01</th>\n",
              "      <td>-16.995276</td>\n",
              "      <td>36.149820</td>\n",
              "    </tr>\n",
              "    <tr>\n",
              "      <th>2015-02-01</th>\n",
              "      <td>-3.174038</td>\n",
              "      <td>-11.450298</td>\n",
              "    </tr>\n",
              "    <tr>\n",
              "      <th>2015-03-01</th>\n",
              "      <td>-0.377725</td>\n",
              "      <td>-6.684969</td>\n",
              "    </tr>\n",
              "    <tr>\n",
              "      <th>2015-04-01</th>\n",
              "      <td>-2.602233</td>\n",
              "      <td>5.479458</td>\n",
              "    </tr>\n",
              "    <tr>\n",
              "      <th>2015-05-01</th>\n",
              "      <td>4.228557</td>\n",
              "      <td>-2.443365</td>\n",
              "    </tr>\n",
              "    <tr>\n",
              "      <th>2015-06-01</th>\n",
              "      <td>1.559393</td>\n",
              "      <td>0.387639</td>\n",
              "    </tr>\n",
              "    <tr>\n",
              "      <th>2015-07-01</th>\n",
              "      <td>-0.998410</td>\n",
              "      <td>3.883680</td>\n",
              "    </tr>\n",
              "    <tr>\n",
              "      <th>2015-08-01</th>\n",
              "      <td>0.364510</td>\n",
              "      <td>-2.356101</td>\n",
              "    </tr>\n",
              "    <tr>\n",
              "      <th>2015-09-01</th>\n",
              "      <td>-1.210627</td>\n",
              "      <td>-1.224147</td>\n",
              "    </tr>\n",
              "    <tr>\n",
              "      <th>2015-10-01</th>\n",
              "      <td>0.225877</td>\n",
              "      <td>0.786927</td>\n",
              "    </tr>\n",
              "    <tr>\n",
              "      <th>2015-11-01</th>\n",
              "      <td>1.338939</td>\n",
              "      <td>0.180974</td>\n",
              "    </tr>\n",
              "    <tr>\n",
              "      <th>2015-12-01</th>\n",
              "      <td>-0.218585</td>\n",
              "      <td>0.212750</td>\n",
              "    </tr>\n",
              "  </tbody>\n",
              "</table>\n",
              "</div>"
            ],
            "text/plain": [
              "             Money_2d  Spending_2d\n",
              "2015-01-01 -16.995276    36.149820\n",
              "2015-02-01  -3.174038   -11.450298\n",
              "2015-03-01  -0.377725    -6.684969\n",
              "2015-04-01  -2.602233     5.479458\n",
              "2015-05-01   4.228557    -2.443365\n",
              "2015-06-01   1.559393     0.387639\n",
              "2015-07-01  -0.998410     3.883680\n",
              "2015-08-01   0.364510    -2.356101\n",
              "2015-09-01  -1.210627    -1.224147\n",
              "2015-10-01   0.225877     0.786927\n",
              "2015-11-01   1.338939     0.180974\n",
              "2015-12-01  -0.218585     0.212750"
            ]
          },
          "metadata": {
            "tags": []
          },
          "execution_count": 225
        }
      ]
    },
    {
      "cell_type": "markdown",
      "metadata": {
        "id": "_yVcjTPPY8LO",
        "colab_type": "text"
      },
      "source": [
        "To be able to compare the predictions with the original data we have to revertthe 2 level diff in the forecast"
      ]
    },
    {
      "cell_type": "code",
      "metadata": {
        "id": "ePKueiBLZJ6X",
        "colab_type": "code",
        "colab": {}
      },
      "source": [
        "forecast['Money1d'] = (data_money['Money'].iloc[-num-1]-data_money['Money'].iloc[-num-2])+forecast['Money_2d'].cumsum()\n",
        "forecast['MoneyForecast']=data_money['Money'].iloc[-num-1]+forecast['Money1d'].cumsum()"
      ],
      "execution_count": 0,
      "outputs": []
    },
    {
      "cell_type": "code",
      "metadata": {
        "id": "YIMoYmtWa-aT",
        "colab_type": "code",
        "colab": {}
      },
      "source": [
        "forecast['Spending1d'] = (data_money['Spending'].iloc[-num-1]-data_money['Spending'].iloc[-num-2])+forecast['Spending_2d'].cumsum()\n",
        "forecast['SpendingForecast']=data_money['Spending'].iloc[-num-1]+forecast['Spending1d'].cumsum()"
      ],
      "execution_count": 0,
      "outputs": []
    },
    {
      "cell_type": "code",
      "metadata": {
        "id": "6LPt-X2OrdLs",
        "colab_type": "code",
        "outputId": "1eb0c684-606f-4640-d5a7-453f6a188d89",
        "colab": {
          "base_uri": "https://localhost:8080/",
          "height": 204
        }
      },
      "source": [
        "forecast.head()"
      ],
      "execution_count": 0,
      "outputs": [
        {
          "output_type": "execute_result",
          "data": {
            "text/html": [
              "<div>\n",
              "<style scoped>\n",
              "    .dataframe tbody tr th:only-of-type {\n",
              "        vertical-align: middle;\n",
              "    }\n",
              "\n",
              "    .dataframe tbody tr th {\n",
              "        vertical-align: top;\n",
              "    }\n",
              "\n",
              "    .dataframe thead th {\n",
              "        text-align: right;\n",
              "    }\n",
              "</style>\n",
              "<table border=\"1\" class=\"dataframe\">\n",
              "  <thead>\n",
              "    <tr style=\"text-align: right;\">\n",
              "      <th></th>\n",
              "      <th>Money_2d</th>\n",
              "      <th>Spending_2d</th>\n",
              "      <th>Money1d</th>\n",
              "      <th>MoneyForecast</th>\n",
              "      <th>Spending1d</th>\n",
              "      <th>SpendingForecast</th>\n",
              "    </tr>\n",
              "  </thead>\n",
              "  <tbody>\n",
              "    <tr>\n",
              "      <th>2015-01-01</th>\n",
              "      <td>-16.995276</td>\n",
              "      <td>36.149820</td>\n",
              "      <td>61.604724</td>\n",
              "      <td>11731.704724</td>\n",
              "      <td>46.749820</td>\n",
              "      <td>12108.749820</td>\n",
              "    </tr>\n",
              "    <tr>\n",
              "      <th>2015-02-01</th>\n",
              "      <td>-3.174038</td>\n",
              "      <td>-11.450298</td>\n",
              "      <td>58.430686</td>\n",
              "      <td>11790.135410</td>\n",
              "      <td>35.299522</td>\n",
              "      <td>12144.049342</td>\n",
              "    </tr>\n",
              "    <tr>\n",
              "      <th>2015-03-01</th>\n",
              "      <td>-0.377725</td>\n",
              "      <td>-6.684969</td>\n",
              "      <td>58.052961</td>\n",
              "      <td>11848.188371</td>\n",
              "      <td>28.614552</td>\n",
              "      <td>12172.663894</td>\n",
              "    </tr>\n",
              "    <tr>\n",
              "      <th>2015-04-01</th>\n",
              "      <td>-2.602233</td>\n",
              "      <td>5.479458</td>\n",
              "      <td>55.450728</td>\n",
              "      <td>11903.639099</td>\n",
              "      <td>34.094010</td>\n",
              "      <td>12206.757904</td>\n",
              "    </tr>\n",
              "    <tr>\n",
              "      <th>2015-05-01</th>\n",
              "      <td>4.228557</td>\n",
              "      <td>-2.443365</td>\n",
              "      <td>59.679285</td>\n",
              "      <td>11963.318384</td>\n",
              "      <td>31.650645</td>\n",
              "      <td>12238.408549</td>\n",
              "    </tr>\n",
              "  </tbody>\n",
              "</table>\n",
              "</div>"
            ],
            "text/plain": [
              "             Money_2d  Spending_2d  ...  Spending1d  SpendingForecast\n",
              "2015-01-01 -16.995276    36.149820  ...   46.749820      12108.749820\n",
              "2015-02-01  -3.174038   -11.450298  ...   35.299522      12144.049342\n",
              "2015-03-01  -0.377725    -6.684969  ...   28.614552      12172.663894\n",
              "2015-04-01  -2.602233     5.479458  ...   34.094010      12206.757904\n",
              "2015-05-01   4.228557    -2.443365  ...   31.650645      12238.408549\n",
              "\n",
              "[5 rows x 6 columns]"
            ]
          },
          "metadata": {
            "tags": []
          },
          "execution_count": 228
        }
      ]
    },
    {
      "cell_type": "code",
      "metadata": {
        "id": "ynSlgtVBxXQM",
        "colab_type": "code",
        "colab": {}
      },
      "source": [
        "test_set=data_money[-num:]"
      ],
      "execution_count": 0,
      "outputs": []
    },
    {
      "cell_type": "code",
      "metadata": {
        "id": "RwDkPE34xhwz",
        "colab_type": "code",
        "outputId": "a0caecc9-cea4-4d25-af44-6355ee10827d",
        "colab": {
          "base_uri": "https://localhost:8080/",
          "height": 310
        }
      },
      "source": [
        "test_set.plot()"
      ],
      "execution_count": 0,
      "outputs": [
        {
          "output_type": "execute_result",
          "data": {
            "text/plain": [
              "<matplotlib.axes._subplots.AxesSubplot at 0x7f942ed31b70>"
            ]
          },
          "metadata": {
            "tags": []
          },
          "execution_count": 232
        },
        {
          "output_type": "display_data",
          "data": {
            "image/png": "[encoded data removed]",
            "text/plain": [
              "<Figure size 432x288 with 1 Axes>"
            ]
          },
          "metadata": {
            "tags": [],
            "needs_background": "light"
          }
        }
      ]
    },
    {
      "cell_type": "code",
      "metadata": {
        "id": "u9uqdiO8xvMV",
        "colab_type": "code",
        "outputId": "63d761ab-8d2e-4b5f-a70f-93a3c95d8ab1",
        "colab": {
          "base_uri": "https://localhost:8080/",
          "height": 349
        }
      },
      "source": [
        "forecast[['MoneyForecast','SpendingForecast']].plot(figsize=(15,5))"
      ],
      "execution_count": 0,
      "outputs": [
        {
          "output_type": "execute_result",
          "data": {
            "text/plain": [
              "<matplotlib.axes._subplots.AxesSubplot at 0x7f942ecbcac8>"
            ]
          },
          "metadata": {
            "tags": []
          },
          "execution_count": 233
        },
        {
          "output_type": "display_data",
          "data": {
            "image/png": "[encoded data removed]",
            "text/plain": [
              "<Figure size 1080x360 with 1 Axes>"
            ]
          },
          "metadata": {
            "tags": [],
            "needs_background": "light"
          }
        }
      ]
    },
    {
      "cell_type": "code",
      "metadata": {
        "id": "DQ5NAZCPyCwP",
        "colab_type": "code",
        "outputId": "8d3d4c5f-d3b2-4f33-a7e0-0246d6fa3c8b",
        "colab": {
          "base_uri": "https://localhost:8080/",
          "height": 291
        }
      },
      "source": [
        "test_set['Money'].plot(legend=True);\n",
        "forecast['MoneyForecast'].plot(legend=True);"
      ],
      "execution_count": 0,
      "outputs": [
        {
          "output_type": "display_data",
          "data": {
            "image/png": "[encoded data removed]",
            "text/plain": [
              "<Figure size 432x288 with 1 Axes>"
            ]
          },
          "metadata": {
            "tags": [],
            "needs_background": "light"
          }
        }
      ]
    },
    {
      "cell_type": "code",
      "metadata": {
        "id": "RJ09xscGyUHp",
        "colab_type": "code",
        "outputId": "71dbd4b5-5548-45c6-d774-279d51bf8907",
        "colab": {
          "base_uri": "https://localhost:8080/",
          "height": 291
        }
      },
      "source": [
        "test_set['Spending'].plot(legend=True);\n",
        "forecast['SpendingForecast'].plot(legend=True);"
      ],
      "execution_count": 0,
      "outputs": [
        {
          "output_type": "display_data",
          "data": {
            "image/png": "[encoded data removed]",
            "text/plain": [
              "<Figure size 432x288 with 1 Axes>"
            ]
          },
          "metadata": {
            "tags": [],
            "needs_background": "light"
          }
        }
      ]
    },
    {
      "cell_type": "code",
      "metadata": {
        "id": "T0oeWY8uydHK",
        "colab_type": "code",
        "outputId": "2b190abb-493a-4ce2-e299-147cf266d84d",
        "colab": {
          "base_uri": "https://localhost:8080/",
          "height": 34
        }
      },
      "source": [
        "rmse(test_set['Money'],forecast['MoneyForecast'])"
      ],
      "execution_count": 0,
      "outputs": [
        {
          "output_type": "execute_result",
          "data": {
            "text/plain": [
              "43.71049653558893"
            ]
          },
          "metadata": {
            "tags": []
          },
          "execution_count": 236
        }
      ]
    }
  ]
}